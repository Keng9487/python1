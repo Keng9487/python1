{
 "cells": [
  {
   "cell_type": "code",
   "execution_count": 5,
   "metadata": {},
   "outputs": [
    {
     "data": {
      "text/plain": [
       "[['孫火清', '68', '77', '89', '50', '84'],\n",
       " ['劉佳佩', '56', '68', '79', '58', '74'],\n",
       " ['陳倩妮', '69', '97', '52', '55', '58'],\n",
       " ['趙家豪', '85', '87', '58', '55', '78'],\n",
       " ['郭淑真', '78', '59', '63', '74', '79'],\n",
       " ['高智超', '73', '85', '60', '84', '53'],\n",
       " ['彭茹靖', '59', '96', '90', '67', '96'],\n",
       " ['林冠蕙', '59', '71', '98', '75', '53'],\n",
       " ['陳姵彬', '53', '67', '77', '61', '63'],\n",
       " ['劉林中', '82', '94', '96', '78', '52']]"
      ]
     },
     "execution_count": 5,
     "metadata": {},
     "output_type": "execute_result"
    }
   ],
   "source": [
    "import csv\n",
    "\n",
    "with open('學生成績1.csv',encoding='utf-8',newline='') as file:\n",
    "    csvReader=csv.reader(file)\n",
    "    next(csvReader)\n",
    "    #for row in csvReader:\n",
    "    #    print(row)\n",
    "    students=list(csvReader)\n",
    "students"
   ]
  }
 ],
 "metadata": {
  "kernelspec": {
   "display_name": "Python 3",
   "language": "python",
   "name": "python3"
  },
  "language_info": {
   "codemirror_mode": {
    "name": "ipython",
    "version": 3
   },
   "file_extension": ".py",
   "mimetype": "text/x-python",
   "name": "python",
   "nbconvert_exporter": "python",
   "pygments_lexer": "ipython3",
   "version": "3.10.8"
  },
  "orig_nbformat": 4
 },
 "nbformat": 4,
 "nbformat_minor": 2
}
