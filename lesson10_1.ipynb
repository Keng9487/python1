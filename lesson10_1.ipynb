{
 "cells": [
  {
   "cell_type": "code",
   "execution_count": null,
   "metadata": {},
   "outputs": [],
   "source": [
    "import csv\n",
    "\n",
    "with open('學生成績1.csv',encoding='utf-8',newline='') as file:\n",
    "    csvReader=csv.reader(file)\n",
    "    next(csvReader)\n",
    "    #for row in csvReader:\n",
    "    #    print(row)\n",
    "    students=list(csvReader)\n",
    "students"
   ]
  },
  {
   "cell_type": "code",
   "execution_count": 14,
   "metadata": {},
   "outputs": [
    {
     "name": "stdout",
     "output_type": "stream",
     "text": [
      "國文超過80的學生\n",
      "學生:趙家豪,國文:85\n",
      "學生:劉林中,國文:82\n",
      "共有2學生\n"
     ]
    }
   ],
   "source": [
    "print('國文超過80的學生')\n",
    "amount=0\n",
    "for student in students:\n",
    "    if int(student[1]) >=80:\n",
    "        amount+=1\n",
    "        print(f'學生:{student[0]},國文:{student[1]}')\n",
    "print(f\"共有{amount}學生\")"
   ]
  }
 ],
 "metadata": {
  "kernelspec": {
   "display_name": "Python 3",
   "language": "python",
   "name": "python3"
  },
  "language_info": {
   "codemirror_mode": {
    "name": "ipython",
    "version": 3
   },
   "file_extension": ".py",
   "mimetype": "text/x-python",
   "name": "python",
   "nbconvert_exporter": "python",
   "pygments_lexer": "ipython3",
   "version": "3.10.8"
  },
  "orig_nbformat": 4
 },
 "nbformat": 4,
 "nbformat_minor": 2
}
