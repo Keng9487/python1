{
 "cells": [
  {
   "cell_type": "code",
   "execution_count": 31,
   "metadata": {},
   "outputs": [],
   "source": [
    "class Student:\n",
    "    def __init__(self,name:str,ch:int,eng:int,math:int,geo:int,his:int):\n",
    "        self.姓名 = name\n",
    "        self.國文 = ch\n",
    "        self.英文 = eng\n",
    "        self.數學 = math\n",
    "        self.地理 = geo\n",
    "        self.歷史 = his\n",
    "\n",
    "    def __repr__(self) -> str:\n",
    "        return f\"{self.姓名}的實體\"\n",
    "    \n",
    "    #實體方法\n",
    "    def sum(self) -> int:\n",
    "        return self.國文+self.英文+self.數學+self.地理+self.歷史\n",
    "    #實體方法\n",
    "    def average(self) ->float:\n",
    "        return round(self.sum() / 5,ndigits=2)"
   ]
  },
  {
   "cell_type": "code",
   "execution_count": 32,
   "metadata": {},
   "outputs": [
    {
     "data": {
      "text/plain": [
       "[王筱婷的實體,\n",
       " 黃佩芬的實體,\n",
       " 翁鈺婷的實體,\n",
       " 錢欣潔的實體,\n",
       " 杜儀鳳的實體,\n",
       " 陳向愛的實體,\n",
       " 陳孝邦的實體,\n",
       " 蕭淑華的實體,\n",
       " 蔡嘉音的實體,\n",
       " 王德城的實體]"
      ]
     },
     "execution_count": 32,
     "metadata": {},
     "output_type": "execute_result"
    }
   ],
   "source": [
    "import csv\n",
    "with open(\"學生成績.csv\",encoding=\"utf-8\",newline='') as file:\n",
    "    dict_reader = csv.DictReader(file)\n",
    "    students = []\n",
    "    for student in dict_reader:\n",
    "        chinese = int(student['國文'])\n",
    "        english = int(student['英文'])\n",
    "        math = int(student['數學'])\n",
    "        geographic = int(student['地理'])\n",
    "        history = int(student['歷史'])\n",
    "        student = Student(student['姓名'],\n",
    "                ch=chinese,\n",
    "                eng=english,\n",
    "                math=math,\n",
    "                geo=geographic,\n",
    "                his=history)\n",
    "        students.append(student)\n",
    "        \n",
    "students"
   ]
  },
  {
   "cell_type": "code",
   "execution_count": 33,
   "metadata": {},
   "outputs": [
    {
     "name": "stdout",
     "output_type": "stream",
     "text": [
      "王筱婷\n",
      "總分:319\n",
      "平均:63.8\n",
      "============\n",
      "黃佩芬\n",
      "總分:356\n",
      "平均:71.2\n",
      "============\n",
      "翁鈺婷\n",
      "總分:358\n",
      "平均:71.6\n",
      "============\n",
      "錢欣潔\n",
      "總分:351\n",
      "平均:70.2\n",
      "============\n",
      "杜儀鳳\n",
      "總分:374\n",
      "平均:74.8\n",
      "============\n",
      "陳向愛\n",
      "總分:326\n",
      "平均:65.2\n",
      "============\n",
      "陳孝邦\n",
      "總分:379\n",
      "平均:75.8\n",
      "============\n",
      "蕭淑華\n",
      "總分:383\n",
      "平均:76.6\n",
      "============\n",
      "蔡嘉音\n",
      "總分:370\n",
      "平均:74.0\n",
      "============\n",
      "王德城\n",
      "總分:399\n",
      "平均:79.8\n",
      "============\n"
     ]
    }
   ],
   "source": [
    "for stu in students:\n",
    "    print(stu.姓名)\n",
    "    print(f\"總分:{stu.sum()}\")\n",
    "    print(f\"平均:{stu.average()}\")\n",
    "    print(\"============\")"
   ]
  }
 ],
 "metadata": {
  "kernelspec": {
   "display_name": "Python 3",
   "language": "python",
   "name": "python3"
  },
  "language_info": {
   "codemirror_mode": {
    "name": "ipython",
    "version": 3
   },
   "file_extension": ".py",
   "mimetype": "text/x-python",
   "name": "python",
   "nbconvert_exporter": "python",
   "pygments_lexer": "ipython3",
   "version": "3.10.8"
  },
  "orig_nbformat": 4
 },
 "nbformat": 4,
 "nbformat_minor": 2
}
