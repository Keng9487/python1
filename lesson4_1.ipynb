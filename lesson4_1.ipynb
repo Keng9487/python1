{
 "cells": [
  {
   "cell_type": "code",
   "execution_count": null,
   "metadata": {},
   "outputs": [],
   "source": [
    "#比較運算子\n",
    "x=7\n",
    "display(x==7)\n",
    "\n",
    "5>x"
   ]
  },
  {
   "cell_type": "code",
   "execution_count": null,
   "metadata": {},
   "outputs": [],
   "source": [
    "scores=int(input(\"請輸入分數:\"))\n",
    "if scores <60:\n",
    "    print(\"不及格\")\n",
    "else:\n",
    "    print(\"及格\")"
   ]
  },
  {
   "cell_type": "code",
   "execution_count": 15,
   "metadata": {},
   "outputs": [
    {
     "name": "stdout",
     "output_type": "stream",
     "text": [
      "300\n",
      "300\n",
      "300\n",
      "程式結束\n"
     ]
    }
   ],
   "source": [
    "#學生總分為300分\n",
    "#有些學生可以加分5%\n",
    "#如果加分超過300，就以300分為準\n",
    "\n",
    "try:\n",
    "    scores=int(input(\"請輸入分數(最高300分)):\"))\n",
    "except:\n",
    "    print(\"輸入錯誤\")\n",
    "else:\n",
    "    is_add=input(\"學生是否符合加分標準(y,n)\")\n",
    "    if(is_add)==\"y\": #單向選擇\n",
    "        scores*=1.05\n",
    "        if scores >300:\n",
    "            scores=300\n",
    "    print(int(scores))\n",
    "    print(round(scores))\n",
    "    print(f'{scores:.0f}')\n",
    "\n",
    "print(\"程式結束\")"
   ]
  },
  {
   "cell_type": "code",
   "execution_count": 13,
   "metadata": {},
   "outputs": [
    {
     "name": "stdout",
     "output_type": "stream",
     "text": [
      "您的分數是:250\n",
      "程式結束\n"
     ]
    }
   ],
   "source": [
    "try:\n",
    "    scores=int(input(\"請輸入學生分數(最高300分)):\"))\n",
    "    print(f\"您的分數是:{scores}\")\n",
    "except:\n",
    "    print(f\"輸入錯誤:{scores}\")\n",
    "print(\"程式結束\")"
   ]
  },
  {
   "cell_type": "code",
   "execution_count": 16,
   "metadata": {},
   "outputs": [
    {
     "name": "stdout",
     "output_type": "stream",
     "text": [
      "及格\n"
     ]
    }
   ],
   "source": [
    "scores=89\n",
    "if scores >=60:\n",
    "    print(\"及格\")\n",
    "else:\n",
    "    print(\"不及格\")"
   ]
  },
  {
   "cell_type": "code",
   "execution_count": 18,
   "metadata": {},
   "outputs": [
    {
     "name": "stdout",
     "output_type": "stream",
     "text": [
      "大於80\n"
     ]
    }
   ],
   "source": [
    "#兩個條件使用巢狀判斷\n",
    "\n",
    "scores=89\n",
    "if scores >=60:\n",
    "    if scores <=80:\n",
    "        print(\"60~80\")\n",
    "    else:\n",
    "        print(\"大於80\")\n",
    "else:\n",
    "    print(\"小於60\")"
   ]
  },
  {
   "cell_type": "code",
   "execution_count": 22,
   "metadata": {},
   "outputs": [
    {
     "name": "stdout",
     "output_type": "stream",
     "text": [
      "60~80\n"
     ]
    }
   ],
   "source": [
    "#2個條件使用邏輯運算子\n",
    "\n",
    "scores=75\n",
    "if scores >=60 and scores <=80:\n",
    "    print(\"60~80\")\n",
    "else:\n",
    "    if scores <60:\n",
    "        print(\"小於60\") \n",
    "    else:\n",
    "        print(\"大於80\")"
   ]
  },
  {
   "cell_type": "code",
   "execution_count": 23,
   "metadata": {},
   "outputs": [
    {
     "name": "stdout",
     "output_type": "stream",
     "text": [
      "小於60\n"
     ]
    }
   ],
   "source": [
    "scores=50\n",
    "\n",
    "if scores <=60:\n",
    "    print(\"小於60\")\n",
    "\n",
    "if scores >=80:\n",
    "    print(\"大於等於80\")"
   ]
  },
  {
   "cell_type": "code",
   "execution_count": 25,
   "metadata": {},
   "outputs": [
    {
     "name": "stdout",
     "output_type": "stream",
     "text": [
      "61~79之間\n"
     ]
    }
   ],
   "source": [
    "#使用邏輯運算子 or\n",
    "\n",
    "scores=75\n",
    "\n",
    "if scores <=60 or scores >=80:\n",
    "    print(\"小於等於60或者大於等於80\")\n",
    "else:\n",
    "    print(\"61~79之間\")"
   ]
  },
  {
   "cell_type": "code",
   "execution_count": 30,
   "metadata": {},
   "outputs": [
    {
     "name": "stdout",
     "output_type": "stream",
     "text": [
      "60~80\n"
     ]
    }
   ],
   "source": [
    "#多項選擇\n",
    "\n",
    "scores=80\n",
    "if scores <60:\n",
    "    print(\"小於60\")\n",
    "elif scores <=80:\n",
    "    print(\"60~80\")\n",
    "else:\n",
    "    print(\"81~100\")\n",
    "    "
   ]
  },
  {
   "cell_type": "code",
   "execution_count": 31,
   "metadata": {},
   "outputs": [
    {
     "name": "stdout",
     "output_type": "stream",
     "text": [
      "81~100\n"
     ]
    }
   ],
   "source": [
    "#多項選擇\n",
    "\n",
    "scores=92\n",
    "if scores >80:\n",
    "    print(\"81~100\")\n",
    "elif scores >=60:\n",
    "    print(\"60~80\")\n",
    "else:\n",
    "    print(\"小於60\")"
   ]
  },
  {
   "cell_type": "code",
   "execution_count": 38,
   "metadata": {},
   "outputs": [
    {
     "ename": "ValueError",
     "evalue": "invalid literal for int() with base 10: 'a'",
     "output_type": "error",
     "traceback": [
      "\u001b[0;31m---------------------------------------------------------------------------\u001b[0m",
      "\u001b[0;31mValueError\u001b[0m                                Traceback (most recent call last)",
      "Cell \u001b[0;32mIn[38], line 6\u001b[0m\n\u001b[1;32m      1\u001b[0m \u001b[39m# 80(含)~89分為「甲」\u001b[39;00m\n\u001b[1;32m      2\u001b[0m \u001b[39m# 70(含)~79分為「乙」\u001b[39;00m\n\u001b[1;32m      3\u001b[0m \u001b[39m# 60(含)~69分為「丙」\u001b[39;00m\n\u001b[1;32m      4\u001b[0m \u001b[39m# 0(含)~59分為「丁」\u001b[39;00m\n\u001b[0;32m----> 6\u001b[0m scores \u001b[39m=\u001b[39m \u001b[39mint\u001b[39;49m(\u001b[39minput\u001b[39;49m(\u001b[39m\"\u001b[39;49m\u001b[39m請輸入學生分數:\u001b[39;49m\u001b[39m\"\u001b[39;49m))\n\u001b[1;32m      7\u001b[0m \u001b[39mif\u001b[39;00m scores \u001b[39m>\u001b[39m\u001b[39m=\u001b[39m \u001b[39m90\u001b[39m:\n\u001b[1;32m      8\u001b[0m     \u001b[39mprint\u001b[39m(\u001b[39m\"\u001b[39m\u001b[39m優\u001b[39m\u001b[39m\"\u001b[39m)\n",
      "\u001b[0;31mValueError\u001b[0m: invalid literal for int() with base 10: 'a'"
     ]
    }
   ],
   "source": [
    "# 80(含)~89分為「甲」\n",
    "# 70(含)~79分為「乙」\n",
    "# 60(含)~69分為「丙」\n",
    "# 0(含)~59分為「丁」\n",
    "\n",
    "scores = int(input(\"請輸入學生分數:\"))\n",
    "if scores >= 90:\n",
    "    print(\"優\")\n",
    "elif scores >=80:\n",
    "    print(\"甲\")\n",
    "elif scores >=70:\n",
    "    print(\"乙\")\n",
    "elif scores >=60:\n",
    "    print(\"丙\")\n",
    "else:\n",
    "    print(\"丁\")"
   ]
  }
 ],
 "metadata": {
  "kernelspec": {
   "display_name": "Python 3",
   "language": "python",
   "name": "python3"
  },
  "language_info": {
   "codemirror_mode": {
    "name": "ipython",
    "version": 3
   },
   "file_extension": ".py",
   "mimetype": "text/x-python",
   "name": "python",
   "nbconvert_exporter": "python",
   "pygments_lexer": "ipython3",
   "version": "3.10.8"
  },
  "orig_nbformat": 4
 },
 "nbformat": 4,
 "nbformat_minor": 2
}
