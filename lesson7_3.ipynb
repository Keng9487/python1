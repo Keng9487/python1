{
 "cells": [
  {
   "cell_type": "code",
   "execution_count": 1,
   "metadata": {},
   "outputs": [],
   "source": [
    "#自訂的class\n",
    "class Student:\n",
    "    def __init__(self,n,c,e,m): #自訂的初始化\n",
    "        self.name = n\n",
    "        self.chinese = c\n",
    "        self.english = e\n",
    "        self.math = m\n",
    "\n",
    "    #實體的方法\n",
    "    def student_info(self):\n",
    "        print(\"name:\",self.name)\n",
    "        print(\"chinese:\",self.chinese)\n",
    "        print(\"english:\",self.english)\n",
    "        print(\"math\",self.math)\n",
    "\n",
    "    #實體的方法\n",
    "    def sum(self):\n",
    "        return self.chinese + self.english + self.math\n",
    "    \n",
    "    #實體方法\n",
    "    def average(self):\n",
    "        return self.sum() / 3.0\n",
    "    \n",
    "    #override內建的__repr__(self)\n",
    "    def __repr__(self):\n",
    "        return f\"這是Student的實體\\n學生姓名是{self.name}\""
   ]
  },
  {
   "cell_type": "code",
   "execution_count": null,
   "metadata": {},
   "outputs": [],
   "source": [
    "stu1 = Student(n=\"徐國堂\",c=78,e=92,m=65)\n",
    "stu1.student_info()\n",
    "print(\"總分:\",stu1.sum())\n",
    "print(\"平均:\",stu1.average())\n",
    "print(stu1)\n",
    "print(\"=============\")\n",
    "\n",
    "stu2 = Student(n=\"張xx\",c=65,e=56,m=95)\n",
    "stu2.student_info()\n",
    "print(\"總分:\",stu2.sum())\n",
    "print(\"平均:\",stu2.average())\n",
    "print(stu2)\n",
    "print(\"=============\")\n",
    "\n",
    "stu3 = Student(n=\"王xx\",c=92,e=86,m=75)\n",
    "stu3.student_info()\n",
    "print(\"總分:\",stu3.sum())\n",
    "print(\"平均:\",stu3.average())\n",
    "print(stu3)\n",
    "print(\"=============\")"
   ]
  }
 ],
 "metadata": {
  "kernelspec": {
   "display_name": "Python 3",
   "language": "python",
   "name": "python3"
  },
  "language_info": {
   "codemirror_mode": {
    "name": "ipython",
    "version": 3
   },
   "file_extension": ".py",
   "mimetype": "text/x-python",
   "name": "python",
   "nbconvert_exporter": "python",
   "pygments_lexer": "ipython3",
   "version": "3.10.8"
  },
  "orig_nbformat": 4
 },
 "nbformat": 4,
 "nbformat_minor": 2
}
