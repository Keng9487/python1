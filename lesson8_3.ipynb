{
 "cells": [
  {
   "cell_type": "code",
   "execution_count": 1,
   "metadata": {},
   "outputs": [
    {
     "data": {
      "text/plain": [
       "[78, 92, 85, 64, 92]"
      ]
     },
     "execution_count": 1,
     "metadata": {},
     "output_type": "execute_result"
    }
   ],
   "source": [
    "stu1=[78,92,85,64,92]\n",
    "stu1"
   ]
  },
  {
   "cell_type": "code",
   "execution_count": 6,
   "metadata": {},
   "outputs": [
    {
     "data": {
      "text/plain": [
       "[64, 93, 80, 51, 66]"
      ]
     },
     "execution_count": 6,
     "metadata": {},
     "output_type": "execute_result"
    }
   ],
   "source": [
    "import random\n",
    "\n",
    "stu2=[]\n",
    "for _ in range(5):\n",
    "    stu2.append(random.randint(50,100))\n",
    "stu2"
   ]
  },
  {
   "cell_type": "code",
   "execution_count": 17,
   "metadata": {},
   "outputs": [
    {
     "data": {
      "text/plain": [
       "[72, 52, 89, 95, 95]"
      ]
     },
     "execution_count": 17,
     "metadata": {},
     "output_type": "execute_result"
    }
   ],
   "source": [
    "import random\n",
    "\n",
    "def generate_stu():\n",
    "    scores = []\n",
    "    for _ in range(5):\n",
    "        scores.append(random.randint(50,100))\n",
    "    return scores\n",
    "\n",
    "generate_stu()"
   ]
  },
  {
   "cell_type": "code",
   "execution_count": 23,
   "metadata": {},
   "outputs": [
    {
     "name": "stdout",
     "output_type": "stream",
     "text": [
      "[[64, 86, 62, 79, 89], [60, 73, 53, 64, 89], [87, 93, 66, 89, 72], [93, 100, 59, 75, 71], [89, 58, 85, 62, 82], [59, 67, 99, 81, 51], [56, 85, 63, 93, 100], [91, 81, 95, 83, 82], [74, 92, 63, 100, 94], [91, 69, 96, 82, 59], [51, 67, 93, 67, 85], [82, 51, 81, 99, 79], [63, 82, 76, 73, 99], [59, 68, 73, 71, 93], [67, 87, 93, 88, 98]]\n"
     ]
    }
   ],
   "source": [
    "#建立50個學生\n",
    "while True:\n",
    "    try:\n",
    "        num=int(input('請輸入學生的人數:'))\n",
    "    except:\n",
    "        print('格式錯誤')\n",
    "    else:\n",
    "        if not (num>=5 and num<=50):\n",
    "            continue\n",
    "        \n",
    "        students=[]\n",
    "        for _ in range(num):\n",
    "            scores = generate_stu()\n",
    "            students.append(scores)\n",
    "        print(students)\n",
    "        break"
   ]
  },
  {
   "cell_type": "code",
   "execution_count": 2,
   "metadata": {},
   "outputs": [
    {
     "ename": "ModuleNotFoundError",
     "evalue": "No module named 'pyinputplus'",
     "output_type": "error",
     "traceback": [
      "\u001b[0;31m---------------------------------------------------------------------------\u001b[0m",
      "\u001b[0;31mModuleNotFoundError\u001b[0m                       Traceback (most recent call last)",
      "\u001b[1;32m/workspaces/python1/lesson8_3.ipynb 儲存格 5\u001b[0m line \u001b[0;36m1\n\u001b[0;32m----> <a href='vscode-notebook-cell://codespaces%2Bshiny-disco-q7q69j6j9p79c9q7/workspaces/python1/lesson8_3.ipynb#W4sdnNjb2RlLXJlbW90ZQ%3D%3D?line=0'>1</a>\u001b[0m \u001b[39mimport\u001b[39;00m \u001b[39mpyinputplus\u001b[39;00m \u001b[39mas\u001b[39;00m \u001b[39mpyip\u001b[39;00m\n\u001b[1;32m      <a href='vscode-notebook-cell://codespaces%2Bshiny-disco-q7q69j6j9p79c9q7/workspaces/python1/lesson8_3.ipynb#W4sdnNjb2RlLXJlbW90ZQ%3D%3D?line=2'>3</a>\u001b[0m num \u001b[39m=\u001b[39m pyip\u001b[39m.\u001b[39minputInt(\u001b[39m'\u001b[39m\u001b[39m請輸入學生的人數:\u001b[39m\u001b[39m'\u001b[39m,\u001b[39mmin\u001b[39m\u001b[39m=\u001b[39m\u001b[39m5\u001b[39m,\u001b[39mmax\u001b[39m\u001b[39m=\u001b[39m\u001b[39m50\u001b[39m)\n\u001b[1;32m      <a href='vscode-notebook-cell://codespaces%2Bshiny-disco-q7q69j6j9p79c9q7/workspaces/python1/lesson8_3.ipynb#W4sdnNjb2RlLXJlbW90ZQ%3D%3D?line=3'>4</a>\u001b[0m students \u001b[39m=\u001b[39m []\n",
      "\u001b[0;31mModuleNotFoundError\u001b[0m: No module named 'pyinputplus'"
     ]
    }
   ],
   "source": [
    "import pyinputplus as pyip\n",
    "\n",
    "num = pyip.inputInt('請輸入學生的人數:',min=5,max=50)\n",
    "students = []\n",
    "for _ in range(num):\n",
    "    scores =  generate_stu()\n",
    "    students.append(scores)\n",
    "\n",
    "students"
   ]
  }
 ],
 "metadata": {
  "kernelspec": {
   "display_name": "Python 3",
   "language": "python",
   "name": "python3"
  },
  "language_info": {
   "codemirror_mode": {
    "name": "ipython",
    "version": 3
   },
   "file_extension": ".py",
   "mimetype": "text/x-python",
   "name": "python",
   "nbconvert_exporter": "python",
   "pygments_lexer": "ipython3",
   "version": "3.10.8"
  },
  "orig_nbformat": 4
 },
 "nbformat": 4,
 "nbformat_minor": 2
}
