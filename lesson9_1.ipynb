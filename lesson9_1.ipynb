{
 "cells": [
  {
   "cell_type": "code",
   "execution_count": 1,
   "metadata": {},
   "outputs": [],
   "source": [
    "import random\n",
    "\n",
    "def generate_stu()->list[int]:\n",
    "    scores = []\n",
    "    for _ in range(5):\n",
    "        scores.append(random.randint(50,100))\n",
    "    return scores\n",
    "def getNames(num:int) ->list[str]:\n",
    "    with open('names.txt',encoding='utf-8') as file:\n",
    "        names=[]\n",
    "        for name in file:\n",
    "            names.append(name.rstrip())\n",
    "        return random.choices(names,k=num)"
   ]
  },
  {
   "cell_type": "code",
   "execution_count": 2,
   "metadata": {},
   "outputs": [
    {
     "name": "stdout",
     "output_type": "stream",
     "text": [
      "請輸入學生的人數:10\n"
     ]
    },
    {
     "data": {
      "text/plain": [
       "[['孫火清', 68, 77, 89, 50, 84],\n",
       " ['劉佳佩', 56, 68, 79, 58, 74],\n",
       " ['陳倩妮', 69, 97, 52, 55, 58],\n",
       " ['趙家豪', 85, 87, 58, 55, 78],\n",
       " ['郭淑真', 78, 59, 63, 74, 79],\n",
       " ['高智超', 73, 85, 60, 84, 53],\n",
       " ['彭茹靖', 59, 96, 90, 67, 96],\n",
       " ['林冠蕙', 59, 71, 98, 75, 53],\n",
       " ['陳姵彬', 53, 67, 77, 61, 63],\n",
       " ['劉林中', 82, 94, 96, 78, 52]]"
      ]
     },
     "execution_count": 2,
     "metadata": {},
     "output_type": "execute_result"
    }
   ],
   "source": [
    "import pyinputplus as pyip\n",
    "\n",
    "num = pyip.inputInt('請輸入學生的人數:',min=5,max=50)\n",
    "print(num)\n",
    "names=getNames(num=num)  #建立學生名字的list\n",
    "students = []\n",
    "for i in range(num):\n",
    "    scores =  generate_stu()  #建立學生的五個分數\n",
    "    scores.insert(0,names[i])  #將學生姓名加入至list內\n",
    "    students.append(scores)\n",
    "\n",
    "students"
   ]
  },
  {
   "cell_type": "code",
   "execution_count": 6,
   "metadata": {},
   "outputs": [
    {
     "name": "stdout",
     "output_type": "stream",
     "text": [
      "存檔成功\n"
     ]
    }
   ],
   "source": [
    "import csv\n",
    "with open(\"學生成績.csv\",mode='w',encoding='utf-8',newline='')as file:\n",
    "    csv_writer=csv.writer(file)\n",
    "    csv_writer.writerows(students)\n",
    "print(\"存檔成功\")"
   ]
  },
  {
   "cell_type": "code",
   "execution_count": 26,
   "metadata": {},
   "outputs": [],
   "source": [
    "def save_csv_file(filename:str,data:list)-> bool:\n",
    "    try:\n",
    "        with open(filename,mode='w',encoding='utf-8',newline='')as file:\n",
    "            csv_writer=csv.writer(file)\n",
    "            csv_writer.writerows(data)\n",
    "    except:\n",
    "        return False\n",
    "    else:\n",
    "        return True\n",
    "    \n"
   ]
  },
  {
   "cell_type": "code",
   "execution_count": 27,
   "metadata": {},
   "outputs": [
    {
     "name": "stdout",
     "output_type": "stream",
     "text": [
      "存檔成功\n"
     ]
    }
   ],
   "source": [
    "if save_csv_file(filename=\"學生成績1.csv\",data=students):\n",
    "    print('存檔成功')\n",
    "else:\n",
    "    print('存檔失敗')"
   ]
  }
 ],
 "metadata": {
  "kernelspec": {
   "display_name": "Python 3",
   "language": "python",
   "name": "python3"
  },
  "language_info": {
   "codemirror_mode": {
    "name": "ipython",
    "version": 3
   },
   "file_extension": ".py",
   "mimetype": "text/x-python",
   "name": "python",
   "nbconvert_exporter": "python",
   "pygments_lexer": "ipython3",
   "version": "3.10.8"
  },
  "orig_nbformat": 4
 },
 "nbformat": 4,
 "nbformat_minor": 2
}
