{
 "cells": [
  {
   "cell_type": "code",
   "execution_count": 34,
   "metadata": {},
   "outputs": [],
   "source": [
    "import random\n",
    "\n",
    "def generate_stu()->list[int]:\n",
    "    scores = []\n",
    "    for _ in range(5):\n",
    "        scores.append(random.randint(50,100))\n",
    "    return scores\n",
    "def getNames(num:int) ->list[str]:\n",
    "    with open('names.txt',encoding='utf-8') as file:\n",
    "        names=[]\n",
    "        for name in file:\n",
    "            names.append(name.rstrip())\n",
    "        return random.choices(names,k=num)"
   ]
  },
  {
   "cell_type": "code",
   "execution_count": 35,
   "metadata": {},
   "outputs": [
    {
     "name": "stdout",
     "output_type": "stream",
     "text": [
      "請輸入學生的人數:"
     ]
    },
    {
     "name": "stdout",
     "output_type": "stream",
     "text": [
      "10\n"
     ]
    },
    {
     "data": {
      "text/plain": [
       "[['賴佳雯', 100, 68, 76, 50, 99],\n",
       " ['林益妏', 84, 51, 69, 82, 53],\n",
       " ['黃嘉琪', 62, 73, 94, 61, 65],\n",
       " ['劉萬季', 57, 70, 71, 64, 83],\n",
       " ['張彥博', 63, 77, 84, 62, 80],\n",
       " ['方筠紹', 99, 97, 85, 74, 71],\n",
       " ['李淑芳', 63, 98, 89, 90, 65],\n",
       " ['王明昇', 88, 64, 63, 65, 99],\n",
       " ['劉嘉泰', 94, 61, 69, 84, 98],\n",
       " ['吳淑惠', 69, 75, 50, 58, 79]]"
      ]
     },
     "execution_count": 35,
     "metadata": {},
     "output_type": "execute_result"
    }
   ],
   "source": [
    "import pyinputplus as pyip\n",
    "\n",
    "num = pyip.inputInt('請輸入學生的人數:',min=5,max=50)\n",
    "print(num)\n",
    "names=getNames(num=num)  #建立學生名字的list\n",
    "students = []\n",
    "for i in range(num):\n",
    "    scores =  generate_stu()  #建立學生的五個分數\n",
    "    scores.insert(0,names[i])  #將學生姓名加入至list內\n",
    "    students.append(scores)\n",
    "\n",
    "students"
   ]
  },
  {
   "cell_type": "code",
   "execution_count": 36,
   "metadata": {},
   "outputs": [
    {
     "name": "stdout",
     "output_type": "stream",
     "text": [
      "存檔成功\n"
     ]
    }
   ],
   "source": [
    "import csv\n",
    "with open(\"學生成績.csv\",mode='w',encoding='utf-8',newline='')as file:\n",
    "    csv_writer=csv.writer(file)\n",
    "    csv_writer.writerows(students)\n",
    "print(\"存檔成功\")"
   ]
  },
  {
   "cell_type": "code",
   "execution_count": 37,
   "metadata": {},
   "outputs": [],
   "source": [
    "def save_csv_file(filename:str,data:list)-> bool:\n",
    "    try:\n",
    "        with open(filename,mode='w',encoding='utf-8',newline='')as file:\n",
    "            csv_writer=csv.writer(file)\n",
    "            csv_writer.writerow(['姓名','國文','英文','數學','地理','歷史'])\n",
    "            csv_writer.writerows(data)\n",
    "    except:\n",
    "        return False\n",
    "    else:\n",
    "        return True\n",
    "    \n"
   ]
  },
  {
   "cell_type": "code",
   "execution_count": 38,
   "metadata": {},
   "outputs": [
    {
     "name": "stdout",
     "output_type": "stream",
     "text": [
      "存檔成功\n"
     ]
    }
   ],
   "source": [
    "fname=input(\"請輸入csv儲檔的檔愛名稱\")\n",
    "if save_csv_file(filename=f'{fname}.csv',data=students):\n",
    "    print('存檔成功')\n",
    "else:\n",
    "    print('存檔失敗')"
   ]
  }
 ],
 "metadata": {
  "kernelspec": {
   "display_name": "Python 3",
   "language": "python",
   "name": "python3"
  },
  "language_info": {
   "codemirror_mode": {
    "name": "ipython",
    "version": 3
   },
   "file_extension": ".py",
   "mimetype": "text/x-python",
   "name": "python",
   "nbconvert_exporter": "python",
   "pygments_lexer": "ipython3",
   "version": "3.10.8"
  },
  "orig_nbformat": 4
 },
 "nbformat": 4,
 "nbformat_minor": 2
}
