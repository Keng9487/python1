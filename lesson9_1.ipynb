{
 "cells": [
  {
   "cell_type": "code",
   "execution_count": 1,
   "metadata": {},
   "outputs": [],
   "source": [
    "import random\n",
    "\n",
    "def generate_stu()->list[int]:\n",
    "    scores = []\n",
    "    for _ in range(5):\n",
    "        scores.append(random.randint(50,100))\n",
    "    return scores\n",
    "def getNames(num:int) ->list[str]:\n",
    "    with open('names.txt',encoding='utf-8') as file:\n",
    "        names=[]\n",
    "        for name in file:\n",
    "            names.append(name.rstrip())\n",
    "        return random.choices(names,k=num)"
   ]
  },
  {
   "cell_type": "code",
   "execution_count": 31,
   "metadata": {},
   "outputs": [
    {
     "name": "stdout",
     "output_type": "stream",
     "text": [
      "請輸入學生的人數:10\n"
     ]
    },
    {
     "data": {
      "text/plain": [
       "[['王明昇', 70, 67, 98, 74, 67],\n",
       " ['吳振瑋', 89, 50, 68, 70, 75],\n",
       " ['郭淑枝', 93, 55, 87, 66, 72],\n",
       " ['黃志福', 74, 70, 77, 59, 57],\n",
       " ['林佳人', 85, 87, 55, 88, 93],\n",
       " ['李進慧', 70, 55, 81, 61, 59],\n",
       " ['林佳蓉', 60, 65, 72, 51, 99],\n",
       " ['羅佩樺', 73, 74, 57, 61, 97],\n",
       " ['林建宏', 94, 57, 84, 64, 73],\n",
       " ['劉依婷', 73, 69, 86, 65, 61]]"
      ]
     },
     "execution_count": 31,
     "metadata": {},
     "output_type": "execute_result"
    }
   ],
   "source": [
    "import pyinputplus as pyip\n",
    "\n",
    "num = pyip.inputInt('請輸入學生的人數:',min=5,max=50)\n",
    "print(num)\n",
    "names=getNames(num=num)  #建立學生名字的list\n",
    "students = []\n",
    "for i in range(num):\n",
    "    scores =  generate_stu()  #建立學生的五個分數\n",
    "    scores.insert(0,names[i])  #將學生姓名加入至list內\n",
    "    students.append(scores)\n",
    "\n",
    "students"
   ]
  },
  {
   "cell_type": "code",
   "execution_count": 33,
   "metadata": {},
   "outputs": [
    {
     "name": "stdout",
     "output_type": "stream",
     "text": [
      "存檔成功\n"
     ]
    }
   ],
   "source": [
    "import csv\n",
    "with open(\"學生成績.csv\",mode='w',encoding='utf-8',newline='')as file:\n",
    "    csv_writer=csv.writer(file)\n",
    "    csv_writer.writerows(students)\n",
    "print(\"存檔成功\")"
   ]
  },
  {
   "cell_type": "code",
   "execution_count": 28,
   "metadata": {},
   "outputs": [],
   "source": [
    "def save_csv_file(filename:str,data:list)-> bool:\n",
    "    try:\n",
    "        with open(filename,mode='w',encoding='utf-8',newline='')as file:\n",
    "            csv_writer=csv.writer(file)\n",
    "            csv_writer.writerow(['姓名','國文','英文','數學','地理','歷史'])\n",
    "            csv_writer.writerows(data)\n",
    "    except:\n",
    "        return False\n",
    "    else:\n",
    "        return True\n",
    "    \n"
   ]
  },
  {
   "cell_type": "code",
   "execution_count": 30,
   "metadata": {},
   "outputs": [
    {
     "name": "stdout",
     "output_type": "stream",
     "text": [
      "存檔成功\n"
     ]
    }
   ],
   "source": [
    "fname=input(\"請輸入csv儲檔的檔愛名稱\")\n",
    "if save_csv_file(filename=f'{fname}.csv',data=students):\n",
    "    print('存檔成功')\n",
    "else:\n",
    "    print('存檔失敗')"
   ]
  }
 ],
 "metadata": {
  "kernelspec": {
   "display_name": "Python 3",
   "language": "python",
   "name": "python3"
  },
  "language_info": {
   "codemirror_mode": {
    "name": "ipython",
    "version": 3
   },
   "file_extension": ".py",
   "mimetype": "text/x-python",
   "name": "python",
   "nbconvert_exporter": "python",
   "pygments_lexer": "ipython3",
   "version": "3.10.8"
  },
  "orig_nbformat": 4
 },
 "nbformat": 4,
 "nbformat_minor": 2
}
