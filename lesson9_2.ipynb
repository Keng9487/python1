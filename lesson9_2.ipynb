{
 "cells": [
  {
   "cell_type": "code",
   "execution_count": 15,
   "metadata": {},
   "outputs": [
    {
     "name": "stdout",
     "output_type": "stream",
     "text": [
      "請輸入要取得的名字數量:10\n"
     ]
    },
    {
     "data": {
      "text/plain": [
       "['林詠斌', '趙家豪', '林佳慧', '黃詩妃', '吳振瑋', '楊韋廷', '王良斌', '陳怡容', '鄭奇翰', '陳樂紫']"
      ]
     },
     "execution_count": 15,
     "metadata": {},
     "output_type": "execute_result"
    }
   ],
   "source": [
    "import pyinputplus as pyip\n",
    "import random\n",
    "with open('names.txt',encoding='utf-8') as file:\n",
    "    names=[]\n",
    "    for name in file:\n",
    "        names.append(name.rstrip())\n",
    "\n",
    "num=pyip.inputInt(\"請輸入要取得的名字數量:\",min=0,max=50)\n",
    "print(num)\n",
    "random.choices(names,k=num)"
   ]
  },
  {
   "cell_type": "code",
   "execution_count": null,
   "metadata": {},
   "outputs": [],
   "source": [
    "import pyinputplus as pyip\n",
    "import random\n",
    "\n",
    "def getNames(num:int) ->list[str]:\n",
    "    with open('names.txt',encoding='utf-8') as file:\n",
    "        names=[]\n",
    "        for name in file:\n",
    "            names.append(name.rstrip())\n",
    "        return random.choices(names,k=num)\n",
    "\n",
    "n=pyip.inputInt(\"請輸入要取得的名字數量\",min=0,max=50)\n",
    "getNames(nun=n)"
   ]
  }
 ],
 "metadata": {
  "kernelspec": {
   "display_name": "Python 3",
   "language": "python",
   "name": "python3"
  },
  "language_info": {
   "codemirror_mode": {
    "name": "ipython",
    "version": 3
   },
   "file_extension": ".py",
   "mimetype": "text/x-python",
   "name": "python",
   "nbconvert_exporter": "python",
   "pygments_lexer": "ipython3",
   "version": "3.10.8"
  },
  "orig_nbformat": 4
 },
 "nbformat": 4,
 "nbformat_minor": 2
}
