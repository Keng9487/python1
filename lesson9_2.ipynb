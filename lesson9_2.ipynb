{
 "cells": [
  {
   "cell_type": "code",
   "execution_count": 1,
   "metadata": {},
   "outputs": [
    {
     "name": "stdout",
     "output_type": "stream",
     "text": [
      "請輸入要取得的名字數量:"
     ]
    },
    {
     "name": "stdout",
     "output_type": "stream",
     "text": [
      "10\n"
     ]
    },
    {
     "data": {
      "text/plain": [
       "['鍾俞禎', '呂傑宣', '黃旻林', '林益妏', '趙家豪', '蕭怡伶', '葉志峰', '崔孝憲', '高士凱', '余宗儒']"
      ]
     },
     "execution_count": 1,
     "metadata": {},
     "output_type": "execute_result"
    }
   ],
   "source": [
    "import pyinputplus as pyip\n",
    "import random\n",
    "with open('names.txt',encoding='utf-8') as file:\n",
    "    names=[]\n",
    "    for name in file:\n",
    "        names.append(name.rstrip())\n",
    "\n",
    "num=pyip.inputInt(\"請輸入要取得的名字數量:\",min=0,max=50)\n",
    "print(num)\n",
    "random.choices(names,k=num)"
   ]
  },
  {
   "cell_type": "code",
   "execution_count": 17,
   "metadata": {},
   "outputs": [
    {
     "name": "stdout",
     "output_type": "stream",
     "text": [
      "請輸入要取得的名字數量"
     ]
    },
    {
     "data": {
      "text/plain": [
       "['景歡燦', '陳怡伶', '趙偉銘', '林佳人', '鍾俞禎', '陳樂紫', '臧怡君', '張家秀', '鄭淑珍', '賴又琦']"
      ]
     },
     "execution_count": 17,
     "metadata": {},
     "output_type": "execute_result"
    }
   ],
   "source": [
    "import pyinputplus as pyip\n",
    "import random\n",
    "\n",
    "def getNames(num:int) ->list[str]:\n",
    "    with open('names.txt',encoding='utf-8') as file:\n",
    "        names=[]\n",
    "        for name in file:\n",
    "            names.append(name.rstrip())\n",
    "        return random.choices(names,k=num)\n",
    "\n",
    "n=pyip.inputInt(\"請輸入要取得的名字數量\",min=0,max=50)\n",
    "getNames(num=n)"
   ]
  }
 ],
 "metadata": {
  "kernelspec": {
   "display_name": "Python 3",
   "language": "python",
   "name": "python3"
  },
  "language_info": {
   "codemirror_mode": {
    "name": "ipython",
    "version": 3
   },
   "file_extension": ".py",
   "mimetype": "text/x-python",
   "name": "python",
   "nbconvert_exporter": "python",
   "pygments_lexer": "ipython3",
   "version": "3.10.8"
  },
  "orig_nbformat": 4
 },
 "nbformat": 4,
 "nbformat_minor": 2
}
