{
 "cells": [
  {
   "cell_type": "code",
   "execution_count": 5,
   "metadata": {},
   "outputs": [
    {
     "data": {
      "text/plain": [
       "[{'姓名': '王筱婷', '國文': 61, '英文': 55, '數學': 51, '地理': 69, '歷史': 83},\n",
       " {'姓名': '黃佩芬', '國文': 91, '英文': 56, '數學': 67, '地理': 53, '歷史': 89},\n",
       " {'姓名': '翁鈺婷', '國文': 80, '英文': 71, '數學': 54, '地理': 71, '歷史': 82},\n",
       " {'姓名': '錢欣潔', '國文': 90, '英文': 61, '數學': 78, '地理': 66, '歷史': 56},\n",
       " {'姓名': '杜儀鳳', '國文': 61, '英文': 93, '數學': 99, '地理': 51, '歷史': 70},\n",
       " {'姓名': '陳向愛', '國文': 57, '英文': 58, '數學': 75, '地理': 66, '歷史': 70},\n",
       " {'姓名': '陳孝邦', '國文': 63, '英文': 75, '數學': 89, '地理': 66, '歷史': 86},\n",
       " {'姓名': '蕭淑華', '國文': 67, '英文': 56, '數學': 93, '地理': 93, '歷史': 74},\n",
       " {'姓名': '蔡嘉音', '國文': 98, '英文': 90, '數學': 55, '地理': 67, '歷史': 60},\n",
       " {'姓名': '王德城', '國文': 67, '英文': 94, '數學': 88, '地理': 87, '歷史': 63}]"
      ]
     },
     "execution_count": 5,
     "metadata": {},
     "output_type": "execute_result"
    }
   ],
   "source": [
    "import csv\n",
    "with open(\"學生成績.csv\",encoding=\"utf-8\") as file:\n",
    "    dict_reader=csv.DictReader(file)\n",
    "    students = list(dict_reader)\n",
    "    for student in students:\n",
    "        student['國文'] = int(student['國文'])\n",
    "        student['英文'] = int(student['英文'])\n",
    "        student['數學'] = int(student['數學'])\n",
    "        student['地理'] = int(student['地理'])\n",
    "        student['歷史'] = int(student['歷史'])\n",
    "students"
   ]
  },
  {
   "cell_type": "code",
   "execution_count": 6,
   "metadata": {},
   "outputs": [
    {
     "name": "stdout",
     "output_type": "stream",
     "text": [
      "王筱婷\n",
      "總分:319\n",
      "平均:63.80\n",
      "==================\n",
      "黃佩芬\n",
      "總分:356\n",
      "平均:71.20\n",
      "==================\n",
      "翁鈺婷\n",
      "總分:358\n",
      "平均:71.60\n",
      "==================\n",
      "錢欣潔\n",
      "總分:351\n",
      "平均:70.20\n",
      "==================\n",
      "杜儀鳳\n",
      "總分:374\n",
      "平均:74.80\n",
      "==================\n",
      "陳向愛\n",
      "總分:326\n",
      "平均:65.20\n",
      "==================\n",
      "陳孝邦\n",
      "總分:379\n",
      "平均:75.80\n",
      "==================\n",
      "蕭淑華\n",
      "總分:383\n",
      "平均:76.60\n",
      "==================\n",
      "蔡嘉音\n",
      "總分:370\n",
      "平均:74.00\n",
      "==================\n",
      "王德城\n",
      "總分:399\n",
      "平均:79.80\n",
      "==================\n"
     ]
    }
   ],
   "source": [
    "for stu in students:\n",
    "    print(stu['姓名'])\n",
    "    sum = stu['國文'] + stu['英文'] + stu['數學'] + stu['地理'] + stu['歷史']\n",
    "    print(f\"總分:{sum}\")\n",
    "    print(f\"平均:{sum/5:.2f}\")\n",
    "    print(\"==================\")"
   ]
  }
 ],
 "metadata": {
  "kernelspec": {
   "display_name": "Python 3",
   "language": "python",
   "name": "python3"
  },
  "language_info": {
   "codemirror_mode": {
    "name": "ipython",
    "version": 3
   },
   "file_extension": ".py",
   "mimetype": "text/x-python",
   "name": "python",
   "nbconvert_exporter": "python",
   "pygments_lexer": "ipython3",
   "version": "3.10.8"
  },
  "orig_nbformat": 4
 },
 "nbformat": 4,
 "nbformat_minor": 2
}
