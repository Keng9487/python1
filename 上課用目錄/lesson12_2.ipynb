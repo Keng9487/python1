{
 "cells": [
  {
   "cell_type": "code",
   "execution_count": 1,
   "metadata": {},
   "outputs": [
    {
     "name": "stdout",
     "output_type": "stream",
     "text": [
      "123\n"
     ]
    }
   ],
   "source": [
    "try:\n",
    "    nums = int(input(\"請輸入整數:\"))\n",
    "except ValueError:\n",
    "    print(\"輸入錯誤\")\n",
    "else:\n",
    "    print(nums)"
   ]
  },
  {
   "cell_type": "code",
   "execution_count": 3,
   "metadata": {},
   "outputs": [
    {
     "name": "stdout",
     "output_type": "stream",
     "text": [
      "joseph\n"
     ]
    }
   ],
   "source": [
    "import pyinputplus\n",
    "name = pyinputplus.inputStr()\n",
    "print(name)"
   ]
  },
  {
   "cell_type": "code",
   "execution_count": 4,
   "metadata": {},
   "outputs": [
    {
     "name": "stdout",
     "output_type": "stream",
     "text": [
      "請輸入整數:123\n"
     ]
    }
   ],
   "source": [
    "import pyinputplus as pyip\n",
    "nums = pyip.inputNum(\"請輸入整數:\")\n",
    "print(nums)"
   ]
  },
  {
   "cell_type": "code",
   "execution_count": 1,
   "metadata": {},
   "outputs": [
    {
     "data": {
      "text/plain": [
       "set()"
      ]
     },
     "execution_count": 1,
     "metadata": {},
     "output_type": "execute_result"
    }
   ],
   "source": [
    "empty_set=set()\n",
    "empty_set"
   ]
  },
  {
   "cell_type": "code",
   "execution_count": 2,
   "metadata": {},
   "outputs": [
    {
     "data": {
      "text/plain": [
       "dict"
      ]
     },
     "execution_count": 2,
     "metadata": {},
     "output_type": "execute_result"
    }
   ],
   "source": [
    "empty_set={}#建立dict\n",
    "type(empty_set)"
   ]
  },
  {
   "cell_type": "code",
   "execution_count": 5,
   "metadata": {},
   "outputs": [
    {
     "data": {
      "text/plain": [
       "{0, 2, 4, 6, 8, 10, 12}"
      ]
     },
     "execution_count": 5,
     "metadata": {},
     "output_type": "execute_result"
    }
   ],
   "source": [
    "even_numbers={0,2,4,6,8,10,0,2,4,6,8,10}\n",
    "even_numbers.add(12)\n",
    "even_numbers"
   ]
  },
  {
   "cell_type": "code",
   "execution_count": 33,
   "metadata": {},
   "outputs": [
    {
     "name": "stdout",
     "output_type": "stream",
     "text": [
      "本期大樂透電腦選號號碼如下:\n",
      "33 38 41 43 12 15 \n",
      "特別號:27\n"
     ]
    }
   ],
   "source": [
    "import random\n",
    "lotos = set()\n",
    "while len(lotos) < 7:\n",
    "    lotos.add(random.randint(1,49))\n",
    "\n",
    "lotos_list = list(lotos)\n",
    "lotos_list\n",
    "\n",
    "print(\"本期大樂透電腦選號號碼如下:\")\n",
    "for nums in lotos_list[:6]:\n",
    "    print(nums,end=\" \")\n",
    "print()\n",
    "print(f\"特別號:{lotos_list[-1]}\")\n"
   ]
  },
  {
   "cell_type": "code",
   "execution_count": 37,
   "metadata": {},
   "outputs": [
    {
     "name": "stdout",
     "output_type": "stream",
     "text": [
      "請輸入電腦選號的組數:(最多10組)\n",
      "本期大樂透電腦選號號碼如下:\n",
      "第1組\n",
      "34 7 11 12 25 28 \n",
      "特別號:29\n",
      "\n",
      "第2組\n",
      "34 5 37 13 48 17 \n",
      "特別號:21\n",
      "\n",
      "第3組\n",
      "34 39 41 14 49 18 \n",
      "特別號:21\n",
      "\n",
      "第4組\n",
      "33 1 45 14 13 23 \n",
      "特別號:31\n",
      "\n",
      "第5組\n",
      "34 39 45 46 23 24 \n",
      "特別號:25\n",
      "\n"
     ]
    }
   ],
   "source": [
    "import pyinputplus as pyip\n",
    "import random\n",
    "def generate_loto() ->list:\n",
    "    lotos = set()\n",
    "    while len(lotos) < 7:\n",
    "        lotos.add(random.randint(1,49))\n",
    "    \n",
    "    return list(lotos)\n",
    "\n",
    "\n",
    "num = pyip.inputInt(\"請輸入電腦選號的組數:(最多10組)\\n\",max=10)\n",
    "print(\"本期大樂透電腦選號號碼如下:\")\n",
    "for i in range(num):\n",
    "    print(f'第{i+1}組',)\n",
    "    lotos_list = generate_loto()\n",
    "    for nums in lotos_list[:6]:\n",
    "        print(nums,end=\" \")\n",
    "    print()\n",
    "    print(f\"特別號:{lotos_list[-1]}\\n\")"
   ]
  }
 ],
 "metadata": {
  "kernelspec": {
   "display_name": "Python 3",
   "language": "python",
   "name": "python3"
  },
  "language_info": {
   "codemirror_mode": {
    "name": "ipython",
    "version": 3
   },
   "file_extension": ".py",
   "mimetype": "text/x-python",
   "name": "python",
   "nbconvert_exporter": "python",
   "pygments_lexer": "ipython3",
   "version": "3.10.8"
  },
  "orig_nbformat": 4
 },
 "nbformat": 4,
 "nbformat_minor": 2
}
